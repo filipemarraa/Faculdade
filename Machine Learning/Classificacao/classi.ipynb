import pandas as pd
from sklearn.model_selection import train_test_split
from sklearn.ensemble import RandomForestClassifier
from sklearn.metrics import classification_report, confusion_matrix
from sklearn.model_selection import GridSearchCV, RandomizedSearchCV
from sklearn.preprocessing import LabelEncoder

data = pd.read_csv('bank-data.csv')

le = LabelEncoder()
data['sex'] = le.fit_transform(data['sex'])
data['region'] = le.fit_transform(data['region'])
data['married'] = le.fit_transform(data['married'])
data['car'] = le.fit_transform(data['car'])
data['save_act'] = le.fit_transform(data['save_act'])
data['current_act'] = le.fit_transform(data['current_act'])
data['mortgage'] = le.fit_transform(data['mortgage'])
data['pep'] = le.fit_transform(data['pep'])

X = data.drop(['id', 'pep'], axis=1)
y = data['pep']

X_train, X_test, y_train, y_test = train_test_split(X, y, test_size=0.2, random_state=42)

rf = RandomForestClassifier()

param_grid = {
    'n_estimators': [50, 100, 150],
    'max_depth': [None, 5, 10, 20],
    'min_samples_split': [2, 5, 10],
    'min_samples_leaf': [1, 2, 4]
}

grid_search = GridSearchCV(rf, param_grid, cv=5, scoring='accuracy')
grid_search.fit(X_train, y_train)

print("Melhores hiperparâmetros encontrados através do Grid Search:")
print(grid_search.best_params_)

random_search = RandomizedSearchCV(rf, param_distributions=param_grid, n_iter=10, cv=5, scoring='accuracy', random_state=42)
random_search.fit(X_train, y_train)

print("\nMelhores hiperparâmetros encontrados através do Random Search:")
print(random_search.best_params_)

best_rf = RandomForestClassifier(**grid_search.best_params_)
best_rf.fit(X_train, y_train)

y_pred = best_rf.predict(X_test)

print("\nMatriz de Confusão:")
print(confusion_matrix(y_test, y_pred))

print("\nRelatório de Classificação:")
print(classification_report(y_test, y_pred))

import matplotlib.pyplot as plt
from sklearn.metrics import roc_curve, roc_auc_score

y_prob = best_rf.predict_proba(X_test)[:, 1]

fpr, tpr, thresholds = roc_curve(y_test, y_prob)

auc = roc_auc_score(y_test, y_prob)

plt.figure()
plt.plot(fpr, tpr, color='darkorange', lw=2, label=f'Curva ROC (área = {auc:.2f})')
plt.plot([0, 1], [0, 1], color='navy', lw=2, linestyle='--')
plt.xlim([0.0, 1.0])
plt.ylim([0.0, 1.05])
plt.xlabel('Taxa de Falsos Positivos')
plt.ylabel('Taxa de Verdadeiros Positivos')
plt.title('Curva ROC')
plt.legend(loc="lower right")
plt.show()
